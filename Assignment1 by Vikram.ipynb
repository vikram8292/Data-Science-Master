{
 "cells": [
  {
   "cell_type": "markdown",
   "id": "309ab133",
   "metadata": {},
   "source": [
    " ### Create one variable containing following type of data:\n",
    "\n",
    "(i)\tstring\n",
    "\n",
    "(ii)\tlist\n",
    "\n",
    "(iii)\tfloat\n",
    "\n",
    "(iv)\ttuple"
   ]
  },
  {
   "cell_type": "code",
   "execution_count": 2,
   "id": "1f1a1349",
   "metadata": {},
   "outputs": [],
   "source": [
    "# String\n",
    "my_str=\"Hello Vikram!\""
   ]
  },
  {
   "cell_type": "code",
   "execution_count": 3,
   "id": "493a6ee4",
   "metadata": {},
   "outputs": [
    {
     "data": {
      "text/plain": [
       "'Hello Vikram!'"
      ]
     },
     "execution_count": 3,
     "metadata": {},
     "output_type": "execute_result"
    }
   ],
   "source": [
    "my_str"
   ]
  },
  {
   "cell_type": "code",
   "execution_count": 4,
   "id": "a42351b1",
   "metadata": {},
   "outputs": [],
   "source": [
    "# list\n",
    "my_list=[1,3,4,6,8]"
   ]
  },
  {
   "cell_type": "code",
   "execution_count": 5,
   "id": "3ca97fea",
   "metadata": {},
   "outputs": [],
   "source": [
    "# float\n",
    "my_float=3.14"
   ]
  },
  {
   "cell_type": "code",
   "execution_count": 6,
   "id": "a3afc9e3",
   "metadata": {},
   "outputs": [],
   "source": [
    "# tuple\n",
    "my_tuble=(5,10,15,20,25)"
   ]
  },
  {
   "cell_type": "markdown",
   "id": "02ae9d1b",
   "metadata": {},
   "source": [
    " ### Given are some following variables containing data:\n",
    "\n",
    "  (i)\tvar1 = ‘ ‘\n",
    "\n",
    "  (ii)\tvar2 = ‘[ DS , ML , Python]’\n",
    "\n",
    " (iii)\tvar3 = [ ‘DS’ , ’ML’ , ‘Python’ ]\n",
    "\n",
    "  (iv)\tvar4 = 1."
   ]
  },
  {
   "cell_type": "code",
   "execution_count": null,
   "id": "1691c16d",
   "metadata": {},
   "outputs": [],
   "source": [
    "# var1=''\n",
    "# It is a string with a single space chararter and also a empty space"
   ]
  },
  {
   "cell_type": "code",
   "execution_count": 7,
   "id": "15583566",
   "metadata": {},
   "outputs": [],
   "source": [
    "# var2 =  ‘[ DS , ML , Python]’\n",
    " # It is an string that appears to reprresent a list it is currently formatted as a string.\n",
    "  #  If we want to represent it as string it should remove the quotes and spaces around the list elements.\n",
    "var2=['DS','ML','python']"
   ]
  },
  {
   "cell_type": "code",
   "execution_count": 8,
   "id": "28f2af7d",
   "metadata": {},
   "outputs": [],
   "source": [
    "# var 3 = ['DS','ML','python']\n",
    "# var3 is a list containing three string elements."
   ]
  },
  {
   "cell_type": "code",
   "execution_count": 9,
   "id": "89c6173d",
   "metadata": {},
   "outputs": [],
   "source": [
    "# var4=1.\n",
    "# It is float with the value of 1.0"
   ]
  },
  {
   "cell_type": "code",
   "execution_count": 10,
   "id": "1a88f1ad",
   "metadata": {},
   "outputs": [],
   "source": [
    "# 'var1' and 'var2' are string\n",
    "#'var3' is a list\n",
    "#'var4' is a float"
   ]
  },
  {
   "cell_type": "markdown",
   "id": "e3d9b4b8",
   "metadata": {},
   "source": [
    " ### Explain the use of the following operators using an example:\n",
    "\n",
    "(i)\t/\n",
    "\n",
    "(ii)\t% \n",
    "\n",
    "(iii)\t//\n",
    "\n",
    "(iv)\t**"
   ]
  },
  {
   "cell_type": "code",
   "execution_count": 12,
   "id": "9b8fa875",
   "metadata": {},
   "outputs": [
    {
     "name": "stdout",
     "output_type": "stream",
     "text": [
      "5.0\n"
     ]
    }
   ],
   "source": [
    "#  /  :-  It is an arithematic operator and used for division and return the floating point\n",
    "#        number as the result\n",
    "\n",
    "a=10\n",
    "b=2\n",
    "result=a/b\n",
    "print(result)"
   ]
  },
  {
   "cell_type": "code",
   "execution_count": 13,
   "id": "c9927c6f",
   "metadata": {},
   "outputs": [
    {
     "name": "stdout",
     "output_type": "stream",
     "text": [
      "0\n"
     ]
    }
   ],
   "source": [
    "# % :- It is an  arithematic operator and modulus operator used for remainder of the division \n",
    "#      and to check the for divisibility.\n",
    "\n",
    "a=10\n",
    "b=2\n",
    "remainder=a%b\n",
    "print(remainder)"
   ]
  },
  {
   "cell_type": "code",
   "execution_count": 5,
   "id": "1834dd71",
   "metadata": {},
   "outputs": [
    {
     "name": "stdout",
     "output_type": "stream",
     "text": [
      "3\n"
     ]
    }
   ],
   "source": [
    "# // :- It is a Floor division operator and used for largest integer that is less than or equal\n",
    "#    to the division result.\n",
    "\n",
    "a = 10\n",
    "b = 3\n",
    "result = a // b\n",
    "print(result) \n",
    "\n",
    "    "
   ]
  },
  {
   "cell_type": "code",
   "execution_count": 6,
   "id": "f158d801",
   "metadata": {},
   "outputs": [
    {
     "name": "stdout",
     "output_type": "stream",
     "text": [
      "8\n"
     ]
    }
   ],
   "source": [
    "# ** :- The ** operator is used to raise a number to a power.\n",
    "#       It performs exponentiation\n",
    "\n",
    "a=2\n",
    "b=3\n",
    "result = a ** b\n",
    "print(result)\n"
   ]
  },
  {
   "cell_type": "code",
   "execution_count": 8,
   "id": "dd623108",
   "metadata": {},
   "outputs": [
    {
     "name": "stdout",
     "output_type": "stream",
     "text": [
      "Element:10,Data Type:<class 'int'>\n",
      "Element:Vikram,Data Type:<class 'str'>\n",
      "Element:3.14,Data Type:<class 'float'>\n",
      "Element:True,Data Type:<class 'bool'>\n",
      "Element:[1, 2, 3],Data Type:<class 'list'>\n",
      "Element:python,Data Type:<class 'str'>\n",
      "Element:5,Data Type:<class 'int'>\n",
      "Element:7.0,Data Type:<class 'float'>\n",
      "Element:(8, 9),Data Type:<class 'tuple'>\n",
      "Element:False,Data Type:<class 'bool'>\n"
     ]
    }
   ],
   "source": [
    "### Create a list of length 10 of your choice containing multiple types of data. Using for loop print the element and its data type.\n",
    "\n",
    "my_list= [10,\"Vikram\",3.14,True,[1,2,3],\"python\",5,7.0,(8,9),False]\n",
    "\n",
    "for item in my_list:\n",
    "    print(f\"Element:{item},Data Type:{type(item)}\")\n"
   ]
  },
  {
   "cell_type": "markdown",
   "id": "175bfcd7",
   "metadata": {},
   "source": [
    "### Using a while loop,verify if the number A is purely divisible by number B and isf so the how many times it can be divisible.\n"
   ]
  },
  {
   "cell_type": "code",
   "execution_count": 12,
   "id": "41245db7",
   "metadata": {},
   "outputs": [
    {
     "name": "stdout",
     "output_type": "stream",
     "text": [
      "Enter the dividend (A): 10\n",
      "Enter the divisor (B): 5\n",
      "1 times purely divisible.\n",
      "Result after division: 2\n"
     ]
    }
   ],
   "source": [
    " # Input the numbers A and B\n",
    "A = int(input(\"Enter the dividend (A): \"))\n",
    "B = int(input(\"Enter the divisor (B): \"))\n",
    "\n",
    "# Initialize a count variable to keep track of the number of divisions\n",
    "\n",
    "count = 0\n",
    "\n",
    "# Perform division in a loop until A is not divisible by B\n",
    "\n",
    "while A % B == 0:\n",
    "    A = A // B\n",
    "    count += 1\n",
    "\n",
    "if count > 0:\n",
    "    print(f\"{count} times purely divisible.\")\n",
    "    print(f\"Result after division: {A}\")\n",
    "else:\n",
    "    print(\"A is not purely divisible by B.\")\n"
   ]
  },
  {
   "cell_type": "markdown",
   "id": "e4eaf522",
   "metadata": {},
   "source": [
    "### Create a list containing 25 int type data. Using for loop and if-else condition print if the element is  divisible by 3 or not."
   ]
  },
  {
   "cell_type": "code",
   "execution_count": 13,
   "id": "d594d752",
   "metadata": {},
   "outputs": [
    {
     "name": "stdout",
     "output_type": "stream",
     "text": [
      "5 is not divisible by 3\n",
      "12 is divisible by 3\n",
      "9 is divisible by 3\n",
      "8 is not divisible by 3\n",
      "21 is divisible by 3\n",
      "15 is divisible by 3\n",
      "30 is divisible by 3\n",
      "18 is divisible by 3\n",
      "7 is not divisible by 3\n",
      "14 is not divisible by 3\n",
      "6 is divisible by 3\n",
      "11 is not divisible by 3\n",
      "27 is divisible by 3\n",
      "32 is not divisible by 3\n",
      "24 is divisible by 3\n",
      "17 is not divisible by 3\n",
      "25 is not divisible by 3\n",
      "22 is not divisible by 3\n",
      "20 is not divisible by 3\n",
      "33 is divisible by 3\n",
      "4 is not divisible by 3\n",
      "10 is not divisible by 3\n",
      "28 is not divisible by 3\n",
      "13 is not divisible by 3\n",
      "19 is not divisible by 3\n"
     ]
    }
   ],
   "source": [
    "# Create a list of 25 integers\n",
    "\n",
    "my_list = [5, 12, 9, 8, 21, 15, 30, 18, 7, 14, 6, 11, 27, 32, 24, 17, 25, 22, 20, 33, 4, 10, 28, 13, 19]\n",
    "\n",
    "# Iterate through the list and check for divisibility by 3\n",
    "\n",
    "for num in my_list:\n",
    "    if num % 3 == 0:\n",
    "        print(f\"{num} is divisible by 3\")\n",
    "    else:\n",
    "        print(f\"{num} is not divisible by 3\")\n"
   ]
  },
  {
   "cell_type": "markdown",
   "id": "42584d6c",
   "metadata": {},
   "source": [
    "### What do you understand about mutable and immutable data types? Give examples for both showing this property."
   ]
  },
  {
   "cell_type": "code",
   "execution_count": null,
   "id": "e67b97a3",
   "metadata": {},
   "outputs": [],
   "source": [
    " # Immutable Data Type :- Immutable data types are those whose values cannot be changed after they are created. Any operation that appears to modify the data type actually creates a new object with the modified value.\n",
    " #                        Immutable data types are typically safer and more predictable because their values cannot be accidentally altered. Some common examples of immutable data types in Python include:\n",
    "#                          Integers (int)\n",
    "#                         Floats (float)\n",
    "#                        Strings (str)\n",
    "#                       Tuples (tuple)"
   ]
  },
  {
   "cell_type": "code",
   "execution_count": null,
   "id": "9687bab1",
   "metadata": {},
   "outputs": [],
   "source": []
  },
  {
   "cell_type": "code",
   "execution_count": 14,
   "id": "533a29f0",
   "metadata": {},
   "outputs": [
    {
     "name": "stdout",
     "output_type": "stream",
     "text": [
      "Hello, World\n"
     ]
    }
   ],
   "source": [
    "# Example of an immutable data type (string):\n",
    "text = \"Hello\"\n",
    "text += \", World\" \n",
    "print(text)  \n",
    "\n"
   ]
  },
  {
   "cell_type": "code",
   "execution_count": null,
   "id": "8c0a9922",
   "metadata": {},
   "outputs": [],
   "source": [
    "# Mutable Data Types: Mutable data types, on the other hand, can have their values modified after \n",
    "#                      creation. When you modify a mutable object, you are actually \n",
    "#                     changing the original object in memory.\n",
    "#                      This can be useful for efficient data manipulation but requires more care to avoid unintended side effects.\n",
    "#                      Lists (list)\n",
    "#                     Dictionaries (dict)\n",
    "#                      Sets (set)"
   ]
  },
  {
   "cell_type": "code",
   "execution_count": 15,
   "id": "7ac397a2",
   "metadata": {},
   "outputs": [
    {
     "name": "stdout",
     "output_type": "stream",
     "text": [
      "[1, 2, 3, 4]\n"
     ]
    }
   ],
   "source": [
    "# Example of a mutable data type (list):\n",
    "my_list = [1, 2, 3]\n",
    "my_list.append(4)  \n",
    "print(my_list)  \n"
   ]
  },
  {
   "cell_type": "code",
   "execution_count": null,
   "id": "0a627184",
   "metadata": {},
   "outputs": [],
   "source": []
  }
 ],
 "metadata": {
  "kernelspec": {
   "display_name": "Python 3 (ipykernel)",
   "language": "python",
   "name": "python3"
  },
  "language_info": {
   "codemirror_mode": {
    "name": "ipython",
    "version": 3
   },
   "file_extension": ".py",
   "mimetype": "text/x-python",
   "name": "python",
   "nbconvert_exporter": "python",
   "pygments_lexer": "ipython3",
   "version": "3.11.5"
  }
 },
 "nbformat": 4,
 "nbformat_minor": 5
}
